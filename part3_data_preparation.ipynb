{
 "cells": [
  {
   "cell_type": "code",
   "execution_count": null,
   "metadata": {},
   "outputs": [],
   "source": []
  },
  {
   "cell_type": "markdown",
   "metadata": {},
   "source": [
    "# Part 3: Practical Data Preparation\n",
    "\n",
    "** Objective: ** Handle categorical features using One-Hot Encoding and address class imbalance using SMOTE.\n",
    "\n",
    "## 1. Setup:\n",
    "\n",
    "Import necessary libraries"
   ]
  },
  {
   "cell_type": "code",
   "execution_count": 1,
   "metadata": {},
   "outputs": [
    {
     "name": "stderr",
     "output_type": "stream",
     "text": [
      "/Users/sidman/opt/anaconda3/lib/python3.9/site-packages/pandas/core/computation/expressions.py:21: UserWarning: Pandas requires version '2.8.4' or newer of 'numexpr' (version '2.8.1' currently installed).\n",
      "  from pandas.core.computation.check import NUMEXPR_INSTALLED\n",
      "/Users/sidman/opt/anaconda3/lib/python3.9/site-packages/pandas/core/arrays/masked.py:60: UserWarning: Pandas requires version '1.3.6' or newer of 'bottleneck' (version '1.3.4' currently installed).\n",
      "  from pandas.core import (\n"
     ]
    }
   ],
   "source": [
    "import pandas as pd\n",
    "import numpy as np\n",
    "import os\n",
    "from sklearn.model_selection import train_test_split\n",
    "from sklearn.preprocessing import OneHotEncoder\n",
    "from sklearn.linear_model import LogisticRegression\n",
    "from sklearn.metrics import accuracy_score, precision_score, recall_score, f1_score, roc_auc_score, confusion_matrix\n",
    "from sklearn.impute import SimpleImputer\n",
    "from imblearn.over_sampling import SMOTE"
   ]
  },
  {
   "cell_type": "markdown",
   "metadata": {},
   "source": [
    "## 2. Data Loading\n",
    "\n",
    "Load the dataset."
   ]
  },
  {
   "cell_type": "code",
   "execution_count": 2,
   "metadata": {},
   "outputs": [],
   "source": [
    "def load_data(file_path):\n",
    "    \"\"\"\n",
    "    Load the synthetic health data from a CSV file.\n",
    "    \n",
    "    Args:\n",
    "        file_path: Path to the CSV file\n",
    "        \n",
    "    Returns:\n",
    "        DataFrame containing the data\n",
    "    \"\"\"\n",
    "    df = pd.read_csv(file_path)\n",
    "    return df"
   ]
  },
  {
   "cell_type": "markdown",
   "metadata": {},
   "source": [
    "## 3. Categorical Feature Encoding\n",
    "\n",
    "Implement 'encode_categorical_features' using 'OneHotEncoder'"
   ]
  },
  {
   "cell_type": "code",
   "execution_count": 3,
   "metadata": {},
   "outputs": [],
   "source": [
    "def encode_categorical_features(df, column_to_encode='smoker_status'):\n",
    "    \"\"\"\n",
    "    Encode a categorical column using OneHotEncoder.\n",
    "    \n",
    "    Args:\n",
    "        df: Input DataFrame\n",
    "        column_to_encode: Name of the categorical column to encode\n",
    "        \n",
    "    Returns:\n",
    "        DataFrame with the categorical column replaced by one-hot encoded columns\n",
    "    \"\"\"\n",
    "    \n",
    "    # 1. Extract the categorical column\n",
    "    categorical_column = df[[column_to_encode]]\n",
    "    \n",
    "    # 2. Apply OneHotEncoder\n",
    "    encoder = OneHotEncoder(sparse=False, drop='first') \n",
    "    encoded_values = encoder.fit_transform(categorical_column)\n",
    "    \n",
    "    # 3. Create new column names\n",
    "    encoded_column_names = encoder.get_feature_names_out([column_to_encode])\n",
    "    \n",
    "    # 4. Replace the original categorical column with the encoded columns\n",
    "    encoded_df = pd.DataFrame(encoded_values, columns=encoded_column_names, index=df.index)\n",
    "    df_encoded = pd.concat([df, encoded_df], axis=1)\n",
    "    df_encoded = df_encoded.drop(columns=[column_to_encode])\n",
    "    \n",
    "    # Placeholder return - replace with your implementation\n",
    "    return df_encoded"
   ]
  },
  {
   "cell_type": "markdown",
   "metadata": {},
   "source": [
    "## 4. Data Preparation\n",
    "\n",
    "Implement 'prepare_data_part3' to handle the train/test split correctly"
   ]
  },
  {
   "cell_type": "code",
   "execution_count": 4,
   "metadata": {},
   "outputs": [],
   "source": [
    "def prepare_data_part3(df, test_size=0.2, random_state=42):\n",
    "    \n",
    "    # 1. Encode categorical features using the encode_categorical_features function\n",
    "    df_encoded = encode_categorical_features(df)\n",
    "    \n",
    "    # 4. Handle missing values\n",
    "    # Drop non-numeric or irrelevant columns\n",
    "    df_encoded = df_encoded.drop(columns=['timestamp'])\n",
    "    df_encoded = df_encoded.dropna()\n",
    "\n",
    "    # 2. Select relevant features (all columns except 'disease_outcome') and target (disease_outcome)\n",
    "    y = df_encoded['disease_outcome']\n",
    "    X = df_encoded.drop(columns=['disease_outcome'])\n",
    "\n",
    "    # 3. Split data into training and testing sets\n",
    "    X_train, X_test, y_train, y_test = train_test_split(\n",
    "        X, y, test_size=test_size, random_state=random_state, stratify=y\n",
    "    )\n",
    "\n",
    "    return X_train, X_test, y_train, y_test\n"
   ]
  },
  {
   "cell_type": "markdown",
   "metadata": {},
   "source": [
    "## 5. Handling Imbalanced Data\n",
    "\n",
    "Implement `apply_smote` to oversample the minority class."
   ]
  },
  {
   "cell_type": "code",
   "execution_count": 5,
   "metadata": {},
   "outputs": [],
   "source": [
    "def apply_smote(X_train, y_train, random_state=42):\n",
    "    \"\"\"\n",
    "    Apply SMOTE to oversample the minority class.\n",
    "    \n",
    "    Args:\n",
    "        X_train: Training features\n",
    "        y_train: Training target\n",
    "        random_state: Random seed for reproducibility\n",
    "        \n",
    "    Returns:\n",
    "        Resampled X_train and y_train with balanced classes\n",
    "    \"\"\"\n",
    "    \n",
    "    # Apply SMOTE to balance the classes\n",
    "    smote = SMOTE(random_state=random_state)\n",
    "    \n",
    "    # Apply SMOTE to the training data\n",
    "    X_train_resampled, y_train_resampled = smote.fit_resample(X_train, y_train)\n",
    "    \n",
    "    return X_train_resampled, y_train_resampled"
   ]
  },
  {
   "cell_type": "markdown",
   "metadata": {},
   "source": [
    "## 6. Model Training and Evaluation\n",
    "\n",
    "Train a model on the SMOTE-resampled data and evaluate it."
   ]
  },
  {
   "cell_type": "code",
   "execution_count": 6,
   "metadata": {},
   "outputs": [],
   "source": [
    "def train_logistic_regression(X_train, y_train):\n",
    "    \"\"\"\n",
    "    Train a logistic regression model.\n",
    "    \n",
    "    Args:\n",
    "        X_train: Training features\n",
    "        y_train: Training target\n",
    "        \n",
    "    Returns:\n",
    "        Trained logistic regression model\n",
    "    \"\"\"\n",
    "\n",
    "    # Initialize and train a LogisticRegression model\n",
    "    model = LogisticRegression(random_state=42, max_iter=5000)\n",
    "    model.fit(X_train, y_train)\n",
    "    \n",
    "    return model"
   ]
  },
  {
   "cell_type": "code",
   "execution_count": 7,
   "metadata": {},
   "outputs": [],
   "source": [
    "def calculate_evaluation_metrics(model, X_test, y_test):\n",
    "    \"\"\"\n",
    "    Calculate classification evaluation metrics.\n",
    "    \n",
    "    Args:\n",
    "        model: Trained model\n",
    "        X_test: Test features\n",
    "        y_test: Test target\n",
    "        \n",
    "    Returns:\n",
    "        Dictionary containing accuracy, precision, recall, f1, auc, and confusion_matrix\n",
    "    \"\"\"\n",
    "\n",
    "    # 1. Generate predictions\n",
    "    y_pred = model.predict(X_test)\n",
    "    y_prob = model.predict_proba(X_test)[:, 1]\n",
    "    \n",
    "    # 2. Calculate metrics: accuracy, precision, recall, f1, auc\n",
    "    accuracy = accuracy_score(y_test, y_pred)\n",
    "    precision = precision_score(y_test, y_pred)\n",
    "    recall = recall_score(y_test, y_pred)\n",
    "    f1 = f1_score(y_test, y_pred)\n",
    "    auc = roc_auc_score(y_test, y_prob)\n",
    "    \n",
    "    # 3. Create confusion matrix\n",
    "    cm = confusion_matrix(y_test, y_pred)\n",
    "    \n",
    "    # 4. Return metrics in a dictionary\n",
    "    \n",
    "    # Placeholder return - replace with your implementation\n",
    "    return {\n",
    "        'accuracy': accuracy,\n",
    "        'precision': precision,\n",
    "        'recall': recall,\n",
    "        'f1': f1,\n",
    "        'auc': auc,\n",
    "        'confusion_matrix': cm\n",
    "    }"
   ]
  },
  {
   "cell_type": "markdown",
   "metadata": {},
   "source": [
    "\n",
    "## 7. Save Results\n",
    "\n",
    "Save the evaluation metrics to a text file."
   ]
  },
  {
   "cell_type": "code",
   "execution_count": 8,
   "metadata": {},
   "outputs": [],
   "source": [
    "def save_results(metrics, results_dir = 'results', file_name='results_part3.txt'):\n",
    "    # 1. Create 'results' directory if it doesn't exist\n",
    "    os.makedirs(results_dir, exist_ok=True)\n",
    "\n",
    "    # 2. Format metrics as strings\n",
    "    formatted_metrics = \"\"\n",
    "    for metric, value in metrics.items():\n",
    "        if metric == 'confusion_matrix':\n",
    "            formatted_metrics += f\"Confusion Matrix:\\n{value}\\n\\n\"\n",
    "        else:\n",
    "            formatted_metrics += f\"{metric.capitalize()}: {value:.4f}\\n\"\n",
    "    \n",
    "    # 3. Write metrics to 'results/results_part3.txt'\n",
    "    results_path = os.path.join(results_dir, file_name)\n",
    "    with open(results_path, 'w') as f:\n",
    "        f.write(formatted_metrics)\n",
    "\n",
    "    print(f\"Results saved to {results_path}\")"
   ]
  },
  {
   "cell_type": "markdown",
   "metadata": {},
   "source": [
    "## 8. Main Execution\n",
    "\n",
    "Run the complete workflow."
   ]
  },
  {
   "cell_type": "code",
   "execution_count": 11,
   "metadata": {},
   "outputs": [
    {
     "name": "stdout",
     "output_type": "stream",
     "text": [
      "accuracy: 0.8579\n",
      "precision: 0.3964\n",
      "recall: 0.8538\n",
      "f1: 0.5415\n",
      "auc: 0.9387\n",
      "Results saved to results/results_part3.txt\n"
     ]
    }
   ],
   "source": [
    "# Main execution\n",
    "if __name__ == \"__main__\":\n",
    "    # 1. Load data\n",
    "    data_file = 'data/synthetic_health_data.csv'\n",
    "    df = load_data(data_file)\n",
    "    \n",
    "    # 2. Prepare data with categorical encoding\n",
    "    X_train, X_test, y_train, y_test = prepare_data_part3(df)\n",
    "    \n",
    "    # 3. Apply SMOTE to balance the training data\n",
    "    X_train_resampled, y_train_resampled = apply_smote(X_train, y_train)\n",
    "    \n",
    "    # 4. Train model on resampled data\n",
    "    model = train_logistic_regression(X_train_resampled, y_train_resampled)\n",
    "    \n",
    "    # 5. Evaluate on original test set\n",
    "    metrics = calculate_evaluation_metrics(model, X_test, y_test)\n",
    "    \n",
    "    # 6. Print metrics\n",
    "    for metric, value in metrics.items():\n",
    "        if metric != 'confusion_matrix':\n",
    "            print(f\"{metric}: {value:.4f}\")\n",
    "    \n",
    "    # 7. Save results\n",
    "    save_results(metrics=metrics)\n",
    "    "
   ]
  },
  {
   "cell_type": "code",
   "execution_count": 12,
   "metadata": {},
   "outputs": [
    {
     "ename": "JSONDecodeError",
     "evalue": "Expecting value: line 1 column 1 (char 0)",
     "output_type": "error",
     "traceback": [
      "\u001b[0;31m---------------------------------------------------------------------------\u001b[0m",
      "\u001b[0;31mJSONDecodeError\u001b[0m                           Traceback (most recent call last)",
      "\u001b[1;32m/Users/sidman/Downloads/5-put-a-label-on-it-AvantikaSharma3357/part3_data_preparation.ipynb Cell 19\u001b[0m line \u001b[0;36m<cell line: 2>\u001b[0;34m()\u001b[0m\n\u001b[1;32m      <a href='vscode-notebook-cell:/Users/sidman/Downloads/5-put-a-label-on-it-AvantikaSharma3357/part3_data_preparation.ipynb#X32sZmlsZQ%3D%3D?line=0'>1</a>\u001b[0m \u001b[39m# 8. Load Part 1 results for comparison\u001b[39;00m\n\u001b[0;32m----> <a href='vscode-notebook-cell:/Users/sidman/Downloads/5-put-a-label-on-it-AvantikaSharma3357/part3_data_preparation.ipynb#X32sZmlsZQ%3D%3D?line=1'>2</a>\u001b[0m comparison \u001b[39m=\u001b[39m compare_models(metrics)\n",
      "\u001b[1;32m/Users/sidman/Downloads/5-put-a-label-on-it-AvantikaSharma3357/part3_data_preparation.ipynb Cell 19\u001b[0m line \u001b[0;36mcompare_models\u001b[0;34m(part3_metrics)\u001b[0m\n\u001b[1;32m     <a href='vscode-notebook-cell:/Users/sidman/Downloads/5-put-a-label-on-it-AvantikaSharma3357/part3_data_preparation.ipynb#X32sZmlsZQ%3D%3D?line=12'>13</a>\u001b[0m \u001b[39mtry\u001b[39;00m:\n\u001b[1;32m     <a href='vscode-notebook-cell:/Users/sidman/Downloads/5-put-a-label-on-it-AvantikaSharma3357/part3_data_preparation.ipynb#X32sZmlsZQ%3D%3D?line=13'>14</a>\u001b[0m     \u001b[39mwith\u001b[39;00m \u001b[39mopen\u001b[39m(\u001b[39m'\u001b[39m\u001b[39mresults/results_part1.txt\u001b[39m\u001b[39m'\u001b[39m, \u001b[39m'\u001b[39m\u001b[39mr\u001b[39m\u001b[39m'\u001b[39m) \u001b[39mas\u001b[39;00m f:\n\u001b[0;32m---> <a href='vscode-notebook-cell:/Users/sidman/Downloads/5-put-a-label-on-it-AvantikaSharma3357/part3_data_preparation.ipynb#X32sZmlsZQ%3D%3D?line=14'>15</a>\u001b[0m         part1_metrics \u001b[39m=\u001b[39m json\u001b[39m.\u001b[39;49mload(f)\n\u001b[1;32m     <a href='vscode-notebook-cell:/Users/sidman/Downloads/5-put-a-label-on-it-AvantikaSharma3357/part3_data_preparation.ipynb#X32sZmlsZQ%3D%3D?line=16'>17</a>\u001b[0m     \u001b[39m# 9. Compare models\u001b[39;00m\n\u001b[1;32m     <a href='vscode-notebook-cell:/Users/sidman/Downloads/5-put-a-label-on-it-AvantikaSharma3357/part3_data_preparation.ipynb#X32sZmlsZQ%3D%3D?line=17'>18</a>\u001b[0m     comparison \u001b[39m=\u001b[39m compare_models(part1_metrics, metrics)\n",
      "File \u001b[0;32m~/opt/anaconda3/lib/python3.9/json/__init__.py:293\u001b[0m, in \u001b[0;36mload\u001b[0;34m(fp, cls, object_hook, parse_float, parse_int, parse_constant, object_pairs_hook, **kw)\u001b[0m\n\u001b[1;32m    274\u001b[0m \u001b[39mdef\u001b[39;00m \u001b[39mload\u001b[39m(fp, \u001b[39m*\u001b[39m, \u001b[39mcls\u001b[39m\u001b[39m=\u001b[39m\u001b[39mNone\u001b[39;00m, object_hook\u001b[39m=\u001b[39m\u001b[39mNone\u001b[39;00m, parse_float\u001b[39m=\u001b[39m\u001b[39mNone\u001b[39;00m,\n\u001b[1;32m    275\u001b[0m         parse_int\u001b[39m=\u001b[39m\u001b[39mNone\u001b[39;00m, parse_constant\u001b[39m=\u001b[39m\u001b[39mNone\u001b[39;00m, object_pairs_hook\u001b[39m=\u001b[39m\u001b[39mNone\u001b[39;00m, \u001b[39m*\u001b[39m\u001b[39m*\u001b[39mkw):\n\u001b[1;32m    276\u001b[0m     \u001b[39m\"\"\"Deserialize ``fp`` (a ``.read()``-supporting file-like object containing\u001b[39;00m\n\u001b[1;32m    277\u001b[0m \u001b[39m    a JSON document) to a Python object.\u001b[39;00m\n\u001b[1;32m    278\u001b[0m \n\u001b[0;32m   (...)\u001b[0m\n\u001b[1;32m    291\u001b[0m \u001b[39m    kwarg; otherwise ``JSONDecoder`` is used.\u001b[39;00m\n\u001b[1;32m    292\u001b[0m \u001b[39m    \"\"\"\u001b[39;00m\n\u001b[0;32m--> 293\u001b[0m     \u001b[39mreturn\u001b[39;00m loads(fp\u001b[39m.\u001b[39;49mread(),\n\u001b[1;32m    294\u001b[0m         \u001b[39mcls\u001b[39;49m\u001b[39m=\u001b[39;49m\u001b[39mcls\u001b[39;49m, object_hook\u001b[39m=\u001b[39;49mobject_hook,\n\u001b[1;32m    295\u001b[0m         parse_float\u001b[39m=\u001b[39;49mparse_float, parse_int\u001b[39m=\u001b[39;49mparse_int,\n\u001b[1;32m    296\u001b[0m         parse_constant\u001b[39m=\u001b[39;49mparse_constant, object_pairs_hook\u001b[39m=\u001b[39;49mobject_pairs_hook, \u001b[39m*\u001b[39;49m\u001b[39m*\u001b[39;49mkw)\n",
      "File \u001b[0;32m~/opt/anaconda3/lib/python3.9/json/__init__.py:346\u001b[0m, in \u001b[0;36mloads\u001b[0;34m(s, cls, object_hook, parse_float, parse_int, parse_constant, object_pairs_hook, **kw)\u001b[0m\n\u001b[1;32m    341\u001b[0m     s \u001b[39m=\u001b[39m s\u001b[39m.\u001b[39mdecode(detect_encoding(s), \u001b[39m'\u001b[39m\u001b[39msurrogatepass\u001b[39m\u001b[39m'\u001b[39m)\n\u001b[1;32m    343\u001b[0m \u001b[39mif\u001b[39;00m (\u001b[39mcls\u001b[39m \u001b[39mis\u001b[39;00m \u001b[39mNone\u001b[39;00m \u001b[39mand\u001b[39;00m object_hook \u001b[39mis\u001b[39;00m \u001b[39mNone\u001b[39;00m \u001b[39mand\u001b[39;00m\n\u001b[1;32m    344\u001b[0m         parse_int \u001b[39mis\u001b[39;00m \u001b[39mNone\u001b[39;00m \u001b[39mand\u001b[39;00m parse_float \u001b[39mis\u001b[39;00m \u001b[39mNone\u001b[39;00m \u001b[39mand\u001b[39;00m\n\u001b[1;32m    345\u001b[0m         parse_constant \u001b[39mis\u001b[39;00m \u001b[39mNone\u001b[39;00m \u001b[39mand\u001b[39;00m object_pairs_hook \u001b[39mis\u001b[39;00m \u001b[39mNone\u001b[39;00m \u001b[39mand\u001b[39;00m \u001b[39mnot\u001b[39;00m kw):\n\u001b[0;32m--> 346\u001b[0m     \u001b[39mreturn\u001b[39;00m _default_decoder\u001b[39m.\u001b[39;49mdecode(s)\n\u001b[1;32m    347\u001b[0m \u001b[39mif\u001b[39;00m \u001b[39mcls\u001b[39m \u001b[39mis\u001b[39;00m \u001b[39mNone\u001b[39;00m:\n\u001b[1;32m    348\u001b[0m     \u001b[39mcls\u001b[39m \u001b[39m=\u001b[39m JSONDecoder\n",
      "File \u001b[0;32m~/opt/anaconda3/lib/python3.9/json/decoder.py:337\u001b[0m, in \u001b[0;36mJSONDecoder.decode\u001b[0;34m(self, s, _w)\u001b[0m\n\u001b[1;32m    332\u001b[0m \u001b[39mdef\u001b[39;00m \u001b[39mdecode\u001b[39m(\u001b[39mself\u001b[39m, s, _w\u001b[39m=\u001b[39mWHITESPACE\u001b[39m.\u001b[39mmatch):\n\u001b[1;32m    333\u001b[0m     \u001b[39m\"\"\"Return the Python representation of ``s`` (a ``str`` instance\u001b[39;00m\n\u001b[1;32m    334\u001b[0m \u001b[39m    containing a JSON document).\u001b[39;00m\n\u001b[1;32m    335\u001b[0m \n\u001b[1;32m    336\u001b[0m \u001b[39m    \"\"\"\u001b[39;00m\n\u001b[0;32m--> 337\u001b[0m     obj, end \u001b[39m=\u001b[39m \u001b[39mself\u001b[39;49m\u001b[39m.\u001b[39;49mraw_decode(s, idx\u001b[39m=\u001b[39;49m_w(s, \u001b[39m0\u001b[39;49m)\u001b[39m.\u001b[39;49mend())\n\u001b[1;32m    338\u001b[0m     end \u001b[39m=\u001b[39m _w(s, end)\u001b[39m.\u001b[39mend()\n\u001b[1;32m    339\u001b[0m     \u001b[39mif\u001b[39;00m end \u001b[39m!=\u001b[39m \u001b[39mlen\u001b[39m(s):\n",
      "File \u001b[0;32m~/opt/anaconda3/lib/python3.9/json/decoder.py:355\u001b[0m, in \u001b[0;36mJSONDecoder.raw_decode\u001b[0;34m(self, s, idx)\u001b[0m\n\u001b[1;32m    353\u001b[0m     obj, end \u001b[39m=\u001b[39m \u001b[39mself\u001b[39m\u001b[39m.\u001b[39mscan_once(s, idx)\n\u001b[1;32m    354\u001b[0m \u001b[39mexcept\u001b[39;00m \u001b[39mStopIteration\u001b[39;00m \u001b[39mas\u001b[39;00m err:\n\u001b[0;32m--> 355\u001b[0m     \u001b[39mraise\u001b[39;00m JSONDecodeError(\u001b[39m\"\u001b[39m\u001b[39mExpecting value\u001b[39m\u001b[39m\"\u001b[39m, s, err\u001b[39m.\u001b[39mvalue) \u001b[39mfrom\u001b[39;00m \u001b[39mNone\u001b[39m\n\u001b[1;32m    356\u001b[0m \u001b[39mreturn\u001b[39;00m obj, end\n",
      "\u001b[0;31mJSONDecodeError\u001b[0m: Expecting value: line 1 column 1 (char 0)"
     ]
    }
   ],
   "source": [
    "\n",
    "# 8. Load Part 1 results for comparison\n",
    "comparison = compare_models(metrics)"
   ]
  },
  {
   "cell_type": "markdown",
   "metadata": {},
   "source": [
    "## 9. Compare Results\n",
    "\n",
    "Implement a function to compare model performance between balanced and imbalanced data.\n"
   ]
  },
  {
   "cell_type": "code",
   "execution_count": 13,
   "metadata": {},
   "outputs": [],
   "source": [
    "import json\n",
    "def compare_models(part3_metrics):\n",
    "    \"\"\"\n",
    "    Calculate percentage improvement between models trained on imbalanced vs. balanced data.\n",
    "    \n",
    "    Args:\n",
    "        part1_metrics: Dictionary containing evaluation metrics from Part 1 (imbalanced)\n",
    "        part3_metrics: Dictionary containing evaluation metrics from Part 3 (balanced)\n",
    "        \n",
    "    Returns:\n",
    "        Dictionary with metric names as keys and improvement percentages as values\n",
    "    \"\"\"\n",
    "    try:\n",
    "        with open('results/results_part1.txt', 'r') as f:\n",
    "            part1_metrics = json.load(f)\n",
    "        \n",
    "        # 9. Compare models\n",
    "        comparison = compare_models(part1_metrics, metrics)\n",
    "        print(\"\\nModel Comparison (improvement percentages):\")\n",
    "        for metric, improvement in comparison.items():\n",
    "            print(f\"{metric}: {improvement:.2f}%\")\n",
    "    except FileNotFoundError:\n",
    "        print(\"Part 1 results not found. Run part1_introduction.ipynb first.\")\n",
    "    improvement = {}\n",
    "    \n",
    "    # Loop through each metric\n",
    "    for metric in part1_metrics:\n",
    "        if metric == 'confusion_matrix':\n",
    "            # Handle confusion matrix separately (this is a complex structure)\n",
    "            continue\n",
    "        \n",
    "        imbalanced_value = part1_metrics[metric]\n",
    "        balanced_value = part3_metrics[metric]\n",
    "        \n",
    "        # Calculate percentage improvement\n",
    "        if imbalanced_value != 0:  # Avoid division by zero\n",
    "            improvement_percentage = ((balanced_value - imbalanced_value) / imbalanced_value) * 100\n",
    "        else:\n",
    "            improvement_percentage = 0  # If imbalanced value is zero, no improvement\n",
    "        \n",
    "        improvement[metric] = improvement_percentage\n",
    "    \n",
    "    return improvement"
   ]
  },
  {
   "cell_type": "markdown",
   "metadata": {},
   "source": []
  },
  {
   "cell_type": "markdown",
   "metadata": {},
   "source": []
  }
 ],
 "metadata": {
  "kernelspec": {
   "display_name": "Python 3",
   "language": "python",
   "name": "python3"
  },
  "language_info": {
   "codemirror_mode": {
    "name": "ipython",
    "version": 3
   },
   "file_extension": ".py",
   "mimetype": "text/x-python",
   "name": "python",
   "nbconvert_exporter": "python",
   "pygments_lexer": "ipython3",
   "version": "3.9.12"
  }
 },
 "nbformat": 4,
 "nbformat_minor": 2
}
