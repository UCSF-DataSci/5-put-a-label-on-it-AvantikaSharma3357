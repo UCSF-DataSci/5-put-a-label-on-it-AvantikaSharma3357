{
 "cells": [
  {
   "cell_type": "code",
   "execution_count": null,
   "metadata": {},
   "outputs": [],
   "source": []
  },
  {
   "cell_type": "markdown",
   "metadata": {},
   "source": [
    "# Part 3: Practical Data Preparation\n",
    "\n",
    "** Objective: ** Handle categorical features using One-Hot Encoding and address class imbalance using SMOTE.\n",
    "\n",
    "## 1. Setup:\n",
    "\n",
    "Import necessary libraries"
   ]
  },
  {
   "cell_type": "code",
   "execution_count": 1,
   "metadata": {},
   "outputs": [
    {
     "name": "stderr",
     "output_type": "stream",
     "text": [
      "/Users/sidman/opt/anaconda3/lib/python3.9/site-packages/pandas/core/computation/expressions.py:21: UserWarning: Pandas requires version '2.8.4' or newer of 'numexpr' (version '2.8.1' currently installed).\n",
      "  from pandas.core.computation.check import NUMEXPR_INSTALLED\n",
      "/Users/sidman/opt/anaconda3/lib/python3.9/site-packages/pandas/core/arrays/masked.py:60: UserWarning: Pandas requires version '1.3.6' or newer of 'bottleneck' (version '1.3.4' currently installed).\n",
      "  from pandas.core import (\n"
     ]
    }
   ],
   "source": [
    "import pandas as pd\n",
    "import numpy as np\n",
    "import os\n",
    "from sklearn.model_selection import train_test_split\n",
    "from sklearn.preprocessing import OneHotEncoder\n",
    "from sklearn.linear_model import LogisticRegression\n",
    "from sklearn.metrics import accuracy_score, precision_score, recall_score, f1_score, roc_auc_score, confusion_matrix\n",
    "from sklearn.impute import SimpleImputer\n",
    "from imblearn.over_sampling import SMOTE"
   ]
  },
  {
   "cell_type": "markdown",
   "metadata": {},
   "source": [
    "## 2. Data Loading\n",
    "\n",
    "Load the dataset."
   ]
  },
  {
   "cell_type": "code",
   "execution_count": 2,
   "metadata": {},
   "outputs": [],
   "source": [
    "def load_data(file_path):\n",
    "    \"\"\"\n",
    "    Load the synthetic health data from a CSV file.\n",
    "    \n",
    "    Args:\n",
    "        file_path: Path to the CSV file\n",
    "        \n",
    "    Returns:\n",
    "        DataFrame containing the data\n",
    "    \"\"\"\n",
    "    df = pd.read_csv(file_path)\n",
    "    return df"
   ]
  },
  {
   "cell_type": "markdown",
   "metadata": {},
   "source": [
    "## 3. Categorical Feature Encoding\n",
    "\n",
    "Implement 'encode_categorical_features' using 'OneHotEncoder'"
   ]
  },
  {
   "cell_type": "code",
   "execution_count": 3,
   "metadata": {},
   "outputs": [],
   "source": [
    "def encode_categorical_features(df, column_to_encode='smoker_status'):\n",
    "    \"\"\"\n",
    "    Encode a categorical column using OneHotEncoder.\n",
    "    \n",
    "    Args:\n",
    "        df: Input DataFrame\n",
    "        column_to_encode: Name of the categorical column to encode\n",
    "        \n",
    "    Returns:\n",
    "        DataFrame with the categorical column replaced by one-hot encoded columns\n",
    "    \"\"\"\n",
    "    \n",
    "    # 1. Extract the categorical column\n",
    "    categorical_column = df[[column_to_encode]]\n",
    "    \n",
    "    # 2. Apply OneHotEncoder\n",
    "    encoder = OneHotEncoder(sparse=False, drop='first') \n",
    "    encoded_values = encoder.fit_transform(categorical_column)\n",
    "    \n",
    "    # 3. Create new column names\n",
    "    encoded_column_names = encoder.get_feature_names_out([column_to_encode])\n",
    "    \n",
    "    # 4. Replace the original categorical column with the encoded columns\n",
    "    encoded_df = pd.DataFrame(encoded_values, columns=encoded_column_names, index=df.index)\n",
    "    df_encoded = pd.concat([df, encoded_df], axis=1)\n",
    "    df_encoded = df_encoded.drop(columns=[column_to_encode])\n",
    "    \n",
    "    # Placeholder return - replace with your implementation\n",
    "    return df_encoded"
   ]
  },
  {
   "cell_type": "markdown",
   "metadata": {},
   "source": [
    "## 4. Data Preparation\n",
    "\n",
    "Implement 'prepare_data_part3' to handle the train/test split correctly"
   ]
  },
  {
   "cell_type": "code",
   "execution_count": 10,
   "metadata": {},
   "outputs": [],
   "source": [
    "def prepare_data_part3(df, test_size=0.2, random_state=42):\n",
    "    \n",
    "    # 1. Encode categorical features using the encode_categorical_features function\n",
    "    df_encoded = encode_categorical_features(df)\n",
    "\n",
    "    # Drop non-numeric or irrelevant columns\n",
    "    df_encoded = df_encoded.drop(columns=['timestamp'])\n",
    "\n",
    "    # 2. Select relevant features (all columns except 'disease_outcome') and target (disease_outcome)\n",
    "    y = df_encoded['disease_outcome']\n",
    "    X = df_encoded.drop(columns=['disease_outcome'])\n",
    "\n",
    "    # Drop columns that are entirely NaN\n",
    "    X = X.dropna(axis=1, how='all')\n",
    "\n",
    "    # 3. Handle missing values (impute with the most frequent value)\n",
    "    imputer = SimpleImputer(strategy='most_frequent')\n",
    "    X_imputed = imputer.fit_transform(X)\n",
    "\n",
    "    # 4. Split data into training and testing sets\n",
    "    X_train, X_test, y_train, y_test = train_test_split(\n",
    "        X_imputed, y, test_size=test_size, random_state=random_state, stratify=y\n",
    "    )\n",
    "\n",
    "    return X_train, X_test, y_train, y_test\n"
   ]
  },
  {
   "cell_type": "markdown",
   "metadata": {},
   "source": [
    "## 5. Handling Imbalanced Data\n",
    "\n",
    "Implement `apply_smote` to oversample the minority class."
   ]
  },
  {
   "cell_type": "code",
   "execution_count": 11,
   "metadata": {},
   "outputs": [],
   "source": [
    "def apply_smote(X_train, y_train, random_state=42):\n",
    "    \"\"\"\n",
    "    Apply SMOTE to oversample the minority class.\n",
    "    \n",
    "    Args:\n",
    "        X_train: Training features\n",
    "        y_train: Training target\n",
    "        random_state: Random seed for reproducibility\n",
    "        \n",
    "    Returns:\n",
    "        Resampled X_train and y_train with balanced classes\n",
    "    \"\"\"\n",
    "    \n",
    "    # Apply SMOTE to balance the classes\n",
    "    smote = SMOTE(random_state=random_state)\n",
    "    \n",
    "    # Apply SMOTE to the training data\n",
    "    X_train_resampled, y_train_resampled = smote.fit_resample(X_train, y_train)\n",
    "    \n",
    "    return X_train_resampled, y_train_resampled"
   ]
  },
  {
   "cell_type": "markdown",
   "metadata": {},
   "source": [
    "## 6. Model Training and Evaluation\n",
    "\n",
    "Train a model on the SMOTE-resampled data and evaluate it."
   ]
  },
  {
   "cell_type": "code",
   "execution_count": 12,
   "metadata": {},
   "outputs": [],
   "source": [
    "def train_logistic_regression(X_train, y_train):\n",
    "    \"\"\"\n",
    "    Train a logistic regression model.\n",
    "    \n",
    "    Args:\n",
    "        X_train: Training features\n",
    "        y_train: Training target\n",
    "        \n",
    "    Returns:\n",
    "        Trained logistic regression model\n",
    "    \"\"\"\n",
    "\n",
    "    # Initialize and train a LogisticRegression model\n",
    "    model = LogisticRegression(random_state=42)\n",
    "    model.fit(X_train, y_train)\n",
    "    \n",
    "    return model"
   ]
  },
  {
   "cell_type": "code",
   "execution_count": 13,
   "metadata": {},
   "outputs": [],
   "source": [
    "def calculate_evaluation_metrics(model, X_test, y_test):\n",
    "    \"\"\"\n",
    "    Calculate classification evaluation metrics.\n",
    "    \n",
    "    Args:\n",
    "        model: Trained model\n",
    "        X_test: Test features\n",
    "        y_test: Test target\n",
    "        \n",
    "    Returns:\n",
    "        Dictionary containing accuracy, precision, recall, f1, auc, and confusion_matrix\n",
    "    \"\"\"\n",
    "\n",
    "    # 1. Generate predictions\n",
    "    y_pred = model.predict(X_test)\n",
    "    y_prob = model.predict_proba(X_test)[:, 1]\n",
    "    \n",
    "    # 2. Calculate metrics: accuracy, precision, recall, f1, auc\n",
    "    accuracy = accuracy_score(y_test, y_pred)\n",
    "    precision = precision_score(y_test, y_pred)\n",
    "    recall = recall_score(y_test, y_pred)\n",
    "    f1 = f1_score(y_test, y_pred)\n",
    "    auc = roc_auc_score(y_test, y_prob)\n",
    "    \n",
    "    # 3. Create confusion matrix\n",
    "    cm = confusion_matrix(y_test, y_pred)\n",
    "    \n",
    "    # 4. Return metrics in a dictionary\n",
    "    \n",
    "    # Placeholder return - replace with your implementation\n",
    "    return {\n",
    "        'accuracy': accuracy,\n",
    "        'precision': precision,\n",
    "        'recall': recall,\n",
    "        'f1': f1,\n",
    "        'auc': auc,\n",
    "        'confusion_matrix': cm\n",
    "    }"
   ]
  },
  {
   "cell_type": "markdown",
   "metadata": {},
   "source": [
    "\n",
    "## 7. Save Results\n",
    "\n",
    "Save the evaluation metrics to a text file."
   ]
  },
  {
   "cell_type": "code",
   "execution_count": 14,
   "metadata": {},
   "outputs": [],
   "source": [
    "def save_results(metrics, results_dir = 'results', file_name='results_part3.txt'):\n",
    "    # 1. Create 'results' directory if it doesn't exist\n",
    "    os.makedirs(results_dir, exist_ok=True)\n",
    "\n",
    "    # 2. Format metrics as strings\n",
    "    formatted_metrics = \"\"\n",
    "    for metric, value in metrics.items():\n",
    "        if metric == 'confusion_matrix':\n",
    "            formatted_metrics += f\"Confusion Matrix:\\n{value}\\n\\n\"\n",
    "        else:\n",
    "            formatted_metrics += f\"{metric.capitalize()}: {value:.4f}\\n\"\n",
    "    \n",
    "    # 3. Write metrics to 'results/results_part3.txt'\n",
    "    results_path = os.path.join(results_dir, file_name)\n",
    "    with open(results_path, 'w') as f:\n",
    "        f.write(formatted_metrics)\n",
    "\n",
    "    print(f\"Results saved to {results_path}\")"
   ]
  },
  {
   "cell_type": "markdown",
   "metadata": {},
   "source": [
    "## 8. Main Execution\n",
    "\n",
    "Run the complete workflow."
   ]
  },
  {
   "cell_type": "code",
   "execution_count": 15,
   "metadata": {},
   "outputs": [
    {
     "ename": "IndexError",
     "evalue": "invalid index to scalar variable.",
     "output_type": "error",
     "traceback": [
      "\u001b[0;31m---------------------------------------------------------------------------\u001b[0m",
      "\u001b[0;31mIndexError\u001b[0m                                Traceback (most recent call last)",
      "\u001b[1;32m/Users/sidman/Downloads/5-put-a-label-on-it-AvantikaSharma3357/part3_data_preparation.ipynb Cell 18\u001b[0m line \u001b[0;36m<cell line: 2>\u001b[0;34m()\u001b[0m\n\u001b[1;32m      <a href='vscode-notebook-cell:/Users/sidman/Downloads/5-put-a-label-on-it-AvantikaSharma3357/part3_data_preparation.ipynb#X23sZmlsZQ%3D%3D?line=4'>5</a>\u001b[0m df \u001b[39m=\u001b[39m load_data(data_file)\n\u001b[1;32m      <a href='vscode-notebook-cell:/Users/sidman/Downloads/5-put-a-label-on-it-AvantikaSharma3357/part3_data_preparation.ipynb#X23sZmlsZQ%3D%3D?line=6'>7</a>\u001b[0m \u001b[39m# 2. Prepare data with categorical encoding\u001b[39;00m\n\u001b[0;32m----> <a href='vscode-notebook-cell:/Users/sidman/Downloads/5-put-a-label-on-it-AvantikaSharma3357/part3_data_preparation.ipynb#X23sZmlsZQ%3D%3D?line=7'>8</a>\u001b[0m X_train, X_test, y_train, y_test \u001b[39m=\u001b[39m prepare_data_part3(df)\n\u001b[1;32m     <a href='vscode-notebook-cell:/Users/sidman/Downloads/5-put-a-label-on-it-AvantikaSharma3357/part3_data_preparation.ipynb#X23sZmlsZQ%3D%3D?line=9'>10</a>\u001b[0m \u001b[39m# 3. Apply SMOTE to balance the training data\u001b[39;00m\n\u001b[1;32m     <a href='vscode-notebook-cell:/Users/sidman/Downloads/5-put-a-label-on-it-AvantikaSharma3357/part3_data_preparation.ipynb#X23sZmlsZQ%3D%3D?line=10'>11</a>\u001b[0m X_train_resampled, y_train_resampled \u001b[39m=\u001b[39m apply_smote(X_train, y_train)\n",
      "\u001b[1;32m/Users/sidman/Downloads/5-put-a-label-on-it-AvantikaSharma3357/part3_data_preparation.ipynb Cell 18\u001b[0m line \u001b[0;36mprepare_data_part3\u001b[0;34m(df, test_size, random_state)\u001b[0m\n\u001b[1;32m     <a href='vscode-notebook-cell:/Users/sidman/Downloads/5-put-a-label-on-it-AvantikaSharma3357/part3_data_preparation.ipynb#X23sZmlsZQ%3D%3D?line=15'>16</a>\u001b[0m \u001b[39m# 3. Handle missing values (impute with the most frequent value)\u001b[39;00m\n\u001b[1;32m     <a href='vscode-notebook-cell:/Users/sidman/Downloads/5-put-a-label-on-it-AvantikaSharma3357/part3_data_preparation.ipynb#X23sZmlsZQ%3D%3D?line=16'>17</a>\u001b[0m imputer \u001b[39m=\u001b[39m SimpleImputer(strategy\u001b[39m=\u001b[39m\u001b[39m'\u001b[39m\u001b[39mmost_frequent\u001b[39m\u001b[39m'\u001b[39m)\n\u001b[0;32m---> <a href='vscode-notebook-cell:/Users/sidman/Downloads/5-put-a-label-on-it-AvantikaSharma3357/part3_data_preparation.ipynb#X23sZmlsZQ%3D%3D?line=17'>18</a>\u001b[0m X_imputed \u001b[39m=\u001b[39m imputer\u001b[39m.\u001b[39;49mfit_transform(X)\n\u001b[1;32m     <a href='vscode-notebook-cell:/Users/sidman/Downloads/5-put-a-label-on-it-AvantikaSharma3357/part3_data_preparation.ipynb#X23sZmlsZQ%3D%3D?line=19'>20</a>\u001b[0m \u001b[39m# 4. Split data into training and testing sets\u001b[39;00m\n\u001b[1;32m     <a href='vscode-notebook-cell:/Users/sidman/Downloads/5-put-a-label-on-it-AvantikaSharma3357/part3_data_preparation.ipynb#X23sZmlsZQ%3D%3D?line=20'>21</a>\u001b[0m X_train, X_test, y_train, y_test \u001b[39m=\u001b[39m train_test_split(\n\u001b[1;32m     <a href='vscode-notebook-cell:/Users/sidman/Downloads/5-put-a-label-on-it-AvantikaSharma3357/part3_data_preparation.ipynb#X23sZmlsZQ%3D%3D?line=21'>22</a>\u001b[0m     X_imputed, y, test_size\u001b[39m=\u001b[39mtest_size, random_state\u001b[39m=\u001b[39mrandom_state, stratify\u001b[39m=\u001b[39my\n\u001b[1;32m     <a href='vscode-notebook-cell:/Users/sidman/Downloads/5-put-a-label-on-it-AvantikaSharma3357/part3_data_preparation.ipynb#X23sZmlsZQ%3D%3D?line=22'>23</a>\u001b[0m )\n",
      "File \u001b[0;32m~/opt/anaconda3/lib/python3.9/site-packages/sklearn/base.py:852\u001b[0m, in \u001b[0;36mTransformerMixin.fit_transform\u001b[0;34m(self, X, y, **fit_params)\u001b[0m\n\u001b[1;32m    848\u001b[0m \u001b[39m# non-optimized default implementation; override when a better\u001b[39;00m\n\u001b[1;32m    849\u001b[0m \u001b[39m# method is possible for a given clustering algorithm\u001b[39;00m\n\u001b[1;32m    850\u001b[0m \u001b[39mif\u001b[39;00m y \u001b[39mis\u001b[39;00m \u001b[39mNone\u001b[39;00m:\n\u001b[1;32m    851\u001b[0m     \u001b[39m# fit method of arity 1 (unsupervised transformation)\u001b[39;00m\n\u001b[0;32m--> 852\u001b[0m     \u001b[39mreturn\u001b[39;00m \u001b[39mself\u001b[39;49m\u001b[39m.\u001b[39;49mfit(X, \u001b[39m*\u001b[39;49m\u001b[39m*\u001b[39;49mfit_params)\u001b[39m.\u001b[39mtransform(X)\n\u001b[1;32m    853\u001b[0m \u001b[39melse\u001b[39;00m:\n\u001b[1;32m    854\u001b[0m     \u001b[39m# fit method of arity 2 (supervised transformation)\u001b[39;00m\n\u001b[1;32m    855\u001b[0m     \u001b[39mreturn\u001b[39;00m \u001b[39mself\u001b[39m\u001b[39m.\u001b[39mfit(X, y, \u001b[39m*\u001b[39m\u001b[39m*\u001b[39mfit_params)\u001b[39m.\u001b[39mtransform(X)\n",
      "File \u001b[0;32m~/opt/anaconda3/lib/python3.9/site-packages/sklearn/impute/_base.py:358\u001b[0m, in \u001b[0;36mSimpleImputer.fit\u001b[0;34m(self, X, y)\u001b[0m\n\u001b[1;32m    353\u001b[0m         \u001b[39mself\u001b[39m\u001b[39m.\u001b[39mstatistics_ \u001b[39m=\u001b[39m \u001b[39mself\u001b[39m\u001b[39m.\u001b[39m_sparse_fit(\n\u001b[1;32m    354\u001b[0m             X, \u001b[39mself\u001b[39m\u001b[39m.\u001b[39mstrategy, \u001b[39mself\u001b[39m\u001b[39m.\u001b[39mmissing_values, fill_value\n\u001b[1;32m    355\u001b[0m         )\n\u001b[1;32m    357\u001b[0m \u001b[39melse\u001b[39;00m:\n\u001b[0;32m--> 358\u001b[0m     \u001b[39mself\u001b[39m\u001b[39m.\u001b[39mstatistics_ \u001b[39m=\u001b[39m \u001b[39mself\u001b[39;49m\u001b[39m.\u001b[39;49m_dense_fit(\n\u001b[1;32m    359\u001b[0m         X, \u001b[39mself\u001b[39;49m\u001b[39m.\u001b[39;49mstrategy, \u001b[39mself\u001b[39;49m\u001b[39m.\u001b[39;49mmissing_values, fill_value\n\u001b[1;32m    360\u001b[0m     )\n\u001b[1;32m    362\u001b[0m \u001b[39mreturn\u001b[39;00m \u001b[39mself\u001b[39m\n",
      "File \u001b[0;32m~/opt/anaconda3/lib/python3.9/site-packages/sklearn/impute/_base.py:444\u001b[0m, in \u001b[0;36mSimpleImputer._dense_fit\u001b[0;34m(self, X, strategy, missing_values, fill_value)\u001b[0m\n\u001b[1;32m    442\u001b[0m         row_mask \u001b[39m=\u001b[39m np\u001b[39m.\u001b[39mlogical_not(row_mask)\u001b[39m.\u001b[39mastype(\u001b[39mbool\u001b[39m)\n\u001b[1;32m    443\u001b[0m         row \u001b[39m=\u001b[39m row[row_mask]\n\u001b[0;32m--> 444\u001b[0m         most_frequent[i] \u001b[39m=\u001b[39m _most_frequent(row, np\u001b[39m.\u001b[39;49mnan, \u001b[39m0\u001b[39;49m)\n\u001b[1;32m    446\u001b[0m     \u001b[39mreturn\u001b[39;00m most_frequent\n\u001b[1;32m    448\u001b[0m \u001b[39m# Constant\u001b[39;00m\n",
      "File \u001b[0;32m~/opt/anaconda3/lib/python3.9/site-packages/sklearn/impute/_base.py:50\u001b[0m, in \u001b[0;36m_most_frequent\u001b[0;34m(array, extra_value, n_repeat)\u001b[0m\n\u001b[1;32m     48\u001b[0m     \u001b[39melse\u001b[39;00m:\n\u001b[1;32m     49\u001b[0m         mode \u001b[39m=\u001b[39m stats\u001b[39m.\u001b[39mmode(array)\n\u001b[0;32m---> 50\u001b[0m         most_frequent_value \u001b[39m=\u001b[39m mode[\u001b[39m0\u001b[39;49m][\u001b[39m0\u001b[39;49m]\n\u001b[1;32m     51\u001b[0m         most_frequent_count \u001b[39m=\u001b[39m mode[\u001b[39m1\u001b[39m][\u001b[39m0\u001b[39m]\n\u001b[1;32m     52\u001b[0m \u001b[39melse\u001b[39;00m:\n",
      "\u001b[0;31mIndexError\u001b[0m: invalid index to scalar variable."
     ]
    }
   ],
   "source": [
    "# Main execution\n",
    "if __name__ == \"__main__\":\n",
    "    # 1. Load data\n",
    "    data_file = 'data/synthetic_health_data.csv'\n",
    "    df = load_data(data_file)\n",
    "    \n",
    "    # 2. Prepare data with categorical encoding\n",
    "    X_train, X_test, y_train, y_test = prepare_data_part3(df)\n",
    "    \n",
    "    # 3. Apply SMOTE to balance the training data\n",
    "    X_train_resampled, y_train_resampled = apply_smote(X_train, y_train)\n",
    "    \n",
    "    # 4. Train model on resampled data\n",
    "    model = train_logistic_regression(X_train_resampled, y_train_resampled)\n",
    "    \n",
    "    # 5. Evaluate on original test set\n",
    "    metrics = calculate_evaluation_metrics(model, X_test, y_test)\n",
    "    \n",
    "    # 6. Print metrics\n",
    "    for metric, value in metrics.items():\n",
    "        if metric != 'confusion_matrix':\n",
    "            print(f\"{metric}: {value:.4f}\")\n",
    "    \n",
    "    # 7. Save results\n",
    "    # (Your code for saving results)\n",
    "    \n",
    "    # 8. Load Part 1 results for comparison\n",
    "    import json\n",
    "    try:\n",
    "        with open('results/results_part1.txt', 'r') as f:\n",
    "            part1_metrics = json.load(f)\n",
    "        \n",
    "        # 9. Compare models\n",
    "        comparison = compare_models(part1_metrics, metrics)\n",
    "        print(\"\\nModel Comparison (improvement percentages):\")\n",
    "        for metric, improvement in comparison.items():\n",
    "            print(f\"{metric}: {improvement:.2f}%\")\n",
    "    except FileNotFoundError:\n",
    "        print(\"Part 1 results not found. Run part1_introduction.ipynb first.\")"
   ]
  },
  {
   "cell_type": "markdown",
   "metadata": {},
   "source": [
    "## 9. Compare Results\n",
    "\n",
    "Implement a function to compare model performance between balanced and imbalanced data.\n"
   ]
  },
  {
   "cell_type": "code",
   "execution_count": null,
   "metadata": {},
   "outputs": [],
   "source": [
    "def compare_models(part1_metrics, part3_metrics):\n",
    "    \"\"\"\n",
    "    Calculate percentage improvement between models trained on imbalanced vs. balanced data.\n",
    "    \n",
    "    Args:\n",
    "        part1_metrics: Dictionary containing evaluation metrics from Part 1 (imbalanced)\n",
    "        part3_metrics: Dictionary containing evaluation metrics from Part 3 (balanced)\n",
    "        \n",
    "    Returns:\n",
    "        Dictionary with metric names as keys and improvement percentages as values\n",
    "    \"\"\"\n",
    "    improvement = {}\n",
    "    \n",
    "    # Loop through each metric\n",
    "    for metric in part1_metrics:\n",
    "        if metric == 'confusion_matrix':\n",
    "            # Handle confusion matrix separately (this is a complex structure)\n",
    "            continue\n",
    "        \n",
    "        imbalanced_value = part1_metrics[metric]\n",
    "        balanced_value = part3_metrics[metric]\n",
    "        \n",
    "        # Calculate percentage improvement\n",
    "        if imbalanced_value != 0:  # Avoid division by zero\n",
    "            improvement_percentage = ((balanced_value - imbalanced_value) / imbalanced_value) * 100\n",
    "        else:\n",
    "            improvement_percentage = 0  # If imbalanced value is zero, no improvement\n",
    "        \n",
    "        improvement[metric] = improvement_percentage\n",
    "    \n",
    "    return improvement"
   ]
  },
  {
   "cell_type": "code",
   "execution_count": null,
   "metadata": {},
   "outputs": [],
   "source": [
    "def compare_models(part1_metrics, part3_metrics):\n",
    "    \"\"\"\n",
    "    Calculate percentage improvement between models trained on imbalanced vs. balanced data.\n",
    "    \n",
    "    Args:\n",
    "        part1_metrics: Dictionary containing evaluation metrics from Part 1 (imbalanced)\n",
    "        part3_metrics: Dictionary containing evaluation metrics from Part 3 (balanced)\n",
    "        \n",
    "    Returns:\n",
    "        Dictionary with metric names as keys and improvement percentages as values\n",
    "    \"\"\"\n",
    "    # YOUR CODE HERE\n",
    "    # 1. Calculate percentage improvement for each metric\n",
    "    # 2. Handle metrics where higher is better (most metrics) and where lower is better\n",
    "    # 3. Return a dictionary with metric names and improvement percentages\n",
    "    \n",
    "    \n",
    "    # Placeholder return - replace with your implementation\n",
    "    return {\n",
    "        'accuracy': 0.0,\n",
    "        'precision': 0.0,\n",
    "        'recall': 0.0,\n",
    "        'f1': 0.0,\n",
    "        'auc': 0.0\n",
    "    }"
   ]
  },
  {
   "cell_type": "markdown",
   "metadata": {},
   "source": []
  },
  {
   "cell_type": "markdown",
   "metadata": {},
   "source": []
  }
 ],
 "metadata": {
  "kernelspec": {
   "display_name": "Python 3",
   "language": "python",
   "name": "python3"
  },
  "language_info": {
   "codemirror_mode": {
    "name": "ipython",
    "version": 3
   },
   "file_extension": ".py",
   "mimetype": "text/x-python",
   "name": "python",
   "nbconvert_exporter": "python",
   "pygments_lexer": "ipython3",
   "version": "3.9.12"
  }
 },
 "nbformat": 4,
 "nbformat_minor": 2
}
